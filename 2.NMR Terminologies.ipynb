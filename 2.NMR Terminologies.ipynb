{
 "cells": [
  {
   "cell_type": "markdown",
   "metadata": {},
   "source": [
    "## NMR 용어 정리"
   ]
  },
  {
   "cell_type": "markdown",
   "metadata": {},
   "source": [
    "* FID  \n",
    " : Free Induction Decay의 약자이다. https://youtu.be/FueeNmksewE 참고.  \n",
    "   \n",
    " \n",
    " ![img.png](./img/img.png)"
   ]
  },
  {
   "cell_type": "markdown",
   "metadata": {},
   "source": [
    "* Larmor Frequency  \n",
    " : The frequency of the angular momentum vector $\\vec{J}$, indicating the precession rate w.r.t the axis of the external magnetic field.\n",
    " $$\n",
    " \\vec{w} = -\\gamma\\vec{B}\n",
    " $$  \n",
    " PS. 외부 자기장에 자기모멘트는 외부자기장과 평행을 이룰 때, 낮은 에너지가 된다. 즉, 아래와 같은 경우 가장 에너지가 낮다.  \n",
    " $$\n",
    " \\vec{\\mu}\\;\\parallelsum\\,\\parallelsum\\;\\vec{E}\n",
    " $$"
   ]
  },
  {
   "cell_type": "markdown",
   "metadata": {},
   "source": [
    "* Precession  \n",
    "   : 기존에 있는 각운동량($\\vec{L}$)과, 새롭게 가해지는 토크($\\vec{\\tau}$)에 의해서,  \n",
    "     새로운 축으로 기존의 각운동량 벡터가 회전하는 것을 뜻한다.  \n",
    "   : 위의 Larmor frequency가 바로 외부자기장 방향을 축으로, spin 각운동량 벡터($\\vec{J}$)가 회전하는 것.  \n",
    "     왜냐하면, 외부 자기장과 자기모멘트($\\vec{\\mu}$)는 다음과 같은 토크를 만들기 떄문.  \n",
    "     $$\n",
    "     \\vec{\\tau} = \\vec{\\mu}\\times\\vec{B}\n",
    "     $$"
   ]
  }
 ],
 "metadata": {
  "kernelspec": {
   "display_name": "Python 3",
   "language": "python",
   "name": "python3"
  },
  "language_info": {
   "codemirror_mode": {
    "name": "ipython",
    "version": 3
   },
   "file_extension": ".py",
   "mimetype": "text/x-python",
   "name": "python",
   "nbconvert_exporter": "python",
   "pygments_lexer": "ipython3",
   "version": "3.5.2"
  }
 },
 "nbformat": 4,
 "nbformat_minor": 2
}
